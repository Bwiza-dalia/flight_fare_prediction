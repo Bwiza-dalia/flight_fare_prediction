{
 "cells": [
  {
   "cell_type": "code",
   "execution_count": 1,
   "id": "d0b9d073",
   "metadata": {},
   "outputs": [],
   "source": [
    "#importing libraries\n",
    "import pandas as pd\n",
    "import numpy as np\n",
    "import seaborn as sns\n",
    "import matplotlib.pyplot as plt\n",
    "from sklearn.model_selection import train_test_split, GridSearchCV\n",
    "from sklearn.metrics import accuracy_score, confusion_matrix\n",
    "# importing models\n",
    "from sklearn.tree import DecisionTreeRegressor\n",
    "from sklearn.svm import SVR\n",
    "from sklearn.linear_model import LogisticRegression\n",
    "from sklearn.ensemble import RandomForestRegressor, GradientBoostingRegressor\n",
    "from sklearn.neighbors import KNeighborsRegressor\n",
    "from sklearn.model_selection import RandomizedSearchCV\n",
    "# importing metrics\n",
    "from sklearn.metrics import mean_squared_error, r2_score\n",
    "from sklearn.ensemble import BaggingRegressor\n",
    "from xgboost import XGBRegressor\n",
    "import warnings\n",
    "\n",
    "warnings.filterwarnings('ignore')"
   ]
  },
  {
   "cell_type": "code",
   "execution_count": 2,
   "id": "8638ceac",
   "metadata": {},
   "outputs": [],
   "source": [
    "def predict(ml_model):\n",
    "    print('Model is: {}'.format(ml_model))\n",
    "    model= ml_model.fit(xtrain,ytrain)\n",
    "    print(\"Training score: {}\".format(model.score(xtrain,ytrain)))\n",
    "    predictions = model.predict(xtest)\n",
    "    print(\"Predictions are: {}\".format(predictions))\n",
    "    print('\\n')\n",
    "    r2score=r2_score(ytest,predictions) \n",
    "    print(\"r2 score is: {}\".format(r2score))  \n",
    "    print('MSE:{}'.format(mean_squared_error(ytest,predictions)))     \n",
    "#     sns.distplot(ytest-predictions)\n",
    "    return model"
   ]
  },
  {
   "cell_type": "code",
   "execution_count": 3,
   "id": "9a2ddc56",
   "metadata": {},
   "outputs": [],
   "source": [
    "#importing data\n",
    "df=pd.read_csv('final_data.csv')"
   ]
  },
  {
   "cell_type": "code",
   "execution_count": 4,
   "id": "bc4314ae",
   "metadata": {},
   "outputs": [
    {
     "name": "stdout",
     "output_type": "stream",
     "text": [
      "(69953, 21)\n"
     ]
    },
    {
     "data": {
      "text/html": [
       "<div>\n",
       "<style scoped>\n",
       "    .dataframe tbody tr th:only-of-type {\n",
       "        vertical-align: middle;\n",
       "    }\n",
       "\n",
       "    .dataframe tbody tr th {\n",
       "        vertical-align: top;\n",
       "    }\n",
       "\n",
       "    .dataframe thead th {\n",
       "        text-align: right;\n",
       "    }\n",
       "</style>\n",
       "<table border=\"1\" class=\"dataframe\">\n",
       "  <thead>\n",
       "    <tr style=\"text-align: right;\">\n",
       "      <th></th>\n",
       "      <th>airline</th>\n",
       "      <th>documentNumber</th>\n",
       "      <th>date_of_Issue</th>\n",
       "      <th>place_of_Issue</th>\n",
       "      <th>Coupon Number</th>\n",
       "      <th>Sector Number</th>\n",
       "      <th>departure_date</th>\n",
       "      <th>Journey Sectors</th>\n",
       "      <th>online_Origin</th>\n",
       "      <th>online_Destination</th>\n",
       "      <th>...</th>\n",
       "      <th>true_Origin</th>\n",
       "      <th>true_Destination</th>\n",
       "      <th>true_POT</th>\n",
       "      <th>from_City</th>\n",
       "      <th>to_City</th>\n",
       "      <th>number_of_stops</th>\n",
       "      <th>ticket_type</th>\n",
       "      <th>price</th>\n",
       "      <th>class_code</th>\n",
       "      <th>class</th>\n",
       "    </tr>\n",
       "  </thead>\n",
       "  <tbody>\n",
       "    <tr>\n",
       "      <th>0</th>\n",
       "      <td>United Airlines</td>\n",
       "      <td>2444397226</td>\n",
       "      <td>31/10/2022</td>\n",
       "      <td>MIL</td>\n",
       "      <td>2</td>\n",
       "      <td>2</td>\n",
       "      <td>01/11/2022</td>\n",
       "      <td>SFO\\LHR\\KGL</td>\n",
       "      <td>LHR</td>\n",
       "      <td>KGL</td>\n",
       "      <td>...</td>\n",
       "      <td>SFO</td>\n",
       "      <td>KGL</td>\n",
       "      <td>KGL</td>\n",
       "      <td>LHR</td>\n",
       "      <td>KGL</td>\n",
       "      <td>1</td>\n",
       "      <td>One-way</td>\n",
       "      <td>570.69</td>\n",
       "      <td>L</td>\n",
       "      <td>Economy Discounted</td>\n",
       "    </tr>\n",
       "    <tr>\n",
       "      <th>1</th>\n",
       "      <td>United Airlines</td>\n",
       "      <td>2445791259</td>\n",
       "      <td>07/11/2022</td>\n",
       "      <td>EWR</td>\n",
       "      <td>1</td>\n",
       "      <td>1</td>\n",
       "      <td>08/11/2022</td>\n",
       "      <td>KGL\\LHR\\EWR</td>\n",
       "      <td>KGL</td>\n",
       "      <td>LHR</td>\n",
       "      <td>...</td>\n",
       "      <td>KGL</td>\n",
       "      <td>EWR</td>\n",
       "      <td>EWR</td>\n",
       "      <td>KGL</td>\n",
       "      <td>LHR</td>\n",
       "      <td>1</td>\n",
       "      <td>One-way</td>\n",
       "      <td>953.41</td>\n",
       "      <td>Q</td>\n",
       "      <td>Economy Discounted</td>\n",
       "    </tr>\n",
       "    <tr>\n",
       "      <th>2</th>\n",
       "      <td>United Airlines</td>\n",
       "      <td>2445791966</td>\n",
       "      <td>07/11/2022</td>\n",
       "      <td>KGL</td>\n",
       "      <td>1</td>\n",
       "      <td>1</td>\n",
       "      <td>08/11/2022</td>\n",
       "      <td>KGL\\LHR\\EWR</td>\n",
       "      <td>KGL</td>\n",
       "      <td>LHR</td>\n",
       "      <td>...</td>\n",
       "      <td>KGL</td>\n",
       "      <td>EWR</td>\n",
       "      <td>EWR</td>\n",
       "      <td>KGL</td>\n",
       "      <td>LHR</td>\n",
       "      <td>1</td>\n",
       "      <td>One-way</td>\n",
       "      <td>437.31</td>\n",
       "      <td>Q</td>\n",
       "      <td>Economy Discounted</td>\n",
       "    </tr>\n",
       "    <tr>\n",
       "      <th>3</th>\n",
       "      <td>United Airlines</td>\n",
       "      <td>2445792553</td>\n",
       "      <td>07/11/2022</td>\n",
       "      <td>EWR</td>\n",
       "      <td>1</td>\n",
       "      <td>1</td>\n",
       "      <td>08/11/2022</td>\n",
       "      <td>KGL\\LHR\\EWR</td>\n",
       "      <td>KGL</td>\n",
       "      <td>LHR</td>\n",
       "      <td>...</td>\n",
       "      <td>KGL</td>\n",
       "      <td>EWR</td>\n",
       "      <td>EWR</td>\n",
       "      <td>KGL</td>\n",
       "      <td>LHR</td>\n",
       "      <td>1</td>\n",
       "      <td>One-way</td>\n",
       "      <td>754.54</td>\n",
       "      <td>Q</td>\n",
       "      <td>Economy Discounted</td>\n",
       "    </tr>\n",
       "    <tr>\n",
       "      <th>4</th>\n",
       "      <td>United Airlines</td>\n",
       "      <td>2449374770</td>\n",
       "      <td>28/11/2022</td>\n",
       "      <td>SFO</td>\n",
       "      <td>3</td>\n",
       "      <td>3</td>\n",
       "      <td>29/11/2022</td>\n",
       "      <td>GRR\\ORD\\BRU\\KGL</td>\n",
       "      <td>BRU</td>\n",
       "      <td>KGL</td>\n",
       "      <td>...</td>\n",
       "      <td>GRR</td>\n",
       "      <td>KGL</td>\n",
       "      <td>KGL</td>\n",
       "      <td>BRU</td>\n",
       "      <td>KGL</td>\n",
       "      <td>2</td>\n",
       "      <td>One-way</td>\n",
       "      <td>472.42</td>\n",
       "      <td>Y</td>\n",
       "      <td>Economy</td>\n",
       "    </tr>\n",
       "  </tbody>\n",
       "</table>\n",
       "<p>5 rows × 21 columns</p>\n",
       "</div>"
      ],
      "text/plain": [
       "           airline  documentNumber date_of_Issue place_of_Issue  \\\n",
       "0  United Airlines      2444397226    31/10/2022            MIL   \n",
       "1  United Airlines      2445791259    07/11/2022            EWR   \n",
       "2  United Airlines      2445791966    07/11/2022            KGL   \n",
       "3  United Airlines      2445792553    07/11/2022            EWR   \n",
       "4  United Airlines      2449374770    28/11/2022            SFO   \n",
       "\n",
       "   Coupon Number  Sector Number departure_date  Journey Sectors online_Origin  \\\n",
       "0              2              2     01/11/2022      SFO\\LHR\\KGL           LHR   \n",
       "1              1              1     08/11/2022      KGL\\LHR\\EWR           KGL   \n",
       "2              1              1     08/11/2022      KGL\\LHR\\EWR           KGL   \n",
       "3              1              1     08/11/2022      KGL\\LHR\\EWR           KGL   \n",
       "4              3              3     29/11/2022  GRR\\ORD\\BRU\\KGL           BRU   \n",
       "\n",
       "  online_Destination  ... true_Origin true_Destination true_POT from_City  \\\n",
       "0                KGL  ...         SFO              KGL      KGL       LHR   \n",
       "1                LHR  ...         KGL              EWR      EWR       KGL   \n",
       "2                LHR  ...         KGL              EWR      EWR       KGL   \n",
       "3                LHR  ...         KGL              EWR      EWR       KGL   \n",
       "4                KGL  ...         GRR              KGL      KGL       BRU   \n",
       "\n",
       "  to_City number_of_stops  ticket_type   price  class_code               class  \n",
       "0     KGL               1      One-way  570.69           L  Economy Discounted  \n",
       "1     LHR               1      One-way  953.41           Q  Economy Discounted  \n",
       "2     LHR               1      One-way  437.31           Q  Economy Discounted  \n",
       "3     LHR               1      One-way  754.54           Q  Economy Discounted  \n",
       "4     KGL               2      One-way  472.42           Y             Economy  \n",
       "\n",
       "[5 rows x 21 columns]"
      ]
     },
     "execution_count": 4,
     "metadata": {},
     "output_type": "execute_result"
    }
   ],
   "source": [
    "print(df.shape)\n",
    "df.head()"
   ]
  },
  {
   "cell_type": "code",
   "execution_count": 5,
   "id": "36cb47f5",
   "metadata": {},
   "outputs": [
    {
     "data": {
      "text/plain": [
       "<function matplotlib.pyplot.show(close=None, block=None)>"
      ]
     },
     "execution_count": 5,
     "metadata": {},
     "output_type": "execute_result"
    },
    {
     "data": {
      "image/png": "[encoded data removed]",
      "text/plain": [
       "<Figure size 1800x720 with 3 Axes>"
      ]
     },
     "metadata": {
      "needs_background": "light"
     },
     "output_type": "display_data"
    }
   ],
   "source": [
    "import missingno as msno\n",
    "msno.bar(df)\n",
    "plt.show"
   ]
  },
  {
   "cell_type": "code",
   "execution_count": 6,
   "id": "6e000dfe",
   "metadata": {},
   "outputs": [],
   "source": [
    "df.drop_duplicates(subset=['documentNumber'],keep=False,inplace=True)"
   ]
  },
  {
   "cell_type": "code",
   "execution_count": 7,
   "id": "f6bf7f56",
   "metadata": {},
   "outputs": [],
   "source": [
    "df.drop(['Coupon Number', 'Sector Number'],axis=1,inplace=True)"
   ]
  },
  {
   "cell_type": "code",
   "execution_count": 8,
   "id": "f7a61911",
   "metadata": {},
   "outputs": [
    {
     "data": {
      "text/plain": [
       "airline               32\n",
       "documentNumber         0\n",
       "date_of_Issue          0\n",
       "place_of_Issue         0\n",
       "departure_date         0\n",
       "Journey Sectors        1\n",
       "online_Origin          1\n",
       "online_Destination     1\n",
       "online_POT             1\n",
       "true_Origin            0\n",
       "true_Destination       0\n",
       "true_POT               1\n",
       "from_City              0\n",
       "to_City                0\n",
       "number_of_stops        0\n",
       "ticket_type            0\n",
       "price                  0\n",
       "class_code            89\n",
       "class                 89\n",
       "dtype: int64"
      ]
     },
     "execution_count": 8,
     "metadata": {},
     "output_type": "execute_result"
    }
   ],
   "source": [
    "#finding the null values\n",
    "df.isnull().sum()"
   ]
  },
  {
   "cell_type": "code",
   "execution_count": 9,
   "id": "7490fbc2",
   "metadata": {},
   "outputs": [],
   "source": [
    "#there are only 3 missing values, i can simply drop them\n",
    "#drop the nullvalues\n",
    "df.dropna(inplace=True)"
   ]
  },
  {
   "cell_type": "markdown",
   "id": "ae397c69",
   "metadata": {},
   "source": [
    "#### data cleaning and preprocessing"
   ]
  },
  {
   "cell_type": "code",
   "execution_count": 10,
   "id": "f6a5de29",
   "metadata": {
    "scrolled": true
   },
   "outputs": [
    {
     "data": {
      "text/plain": [
       "airline                object\n",
       "documentNumber          int64\n",
       "date_of_Issue          object\n",
       "place_of_Issue         object\n",
       "departure_date         object\n",
       "Journey Sectors        object\n",
       "online_Origin          object\n",
       "online_Destination     object\n",
       "online_POT             object\n",
       "true_Origin            object\n",
       "true_Destination       object\n",
       "true_POT               object\n",
       "from_City              object\n",
       "to_City                object\n",
       "number_of_stops         int64\n",
       "ticket_type            object\n",
       "price                 float64\n",
       "class_code             object\n",
       "class                  object\n",
       "dtype: object"
      ]
     },
     "execution_count": 10,
     "metadata": {},
     "output_type": "execute_result"
    }
   ],
   "source": [
    "df.dtypes # datatypes"
   ]
  },
  {
   "cell_type": "code",
   "execution_count": 11,
   "id": "b4f54fe7",
   "metadata": {},
   "outputs": [],
   "source": [
    "df['date_of_Issue']=pd.to_datetime(df['date_of_Issue'],format=\"%d/%m/%Y\")\n",
    "df['departure_date']=pd.to_datetime(df['departure_date'],format=\"%d/%m/%Y\")"
   ]
  },
  {
   "cell_type": "code",
   "execution_count": 12,
   "id": "c460d7c7",
   "metadata": {},
   "outputs": [],
   "source": [
    "#we  are going to extract day and month from columns of booking date and departure time \n",
    "#after extracting them, we will drop them as we wont be using itm.\n",
    "\n",
    "df['booking_day']=df['date_of_Issue'].dt.day\n",
    "df['booking_month']=df['date_of_Issue'].dt.month\n",
    "df['departure_day']=df['departure_date'].dt.day\n",
    "df['departure_month']=df['departure_date'].dt.month"
   ]
  },
  {
   "cell_type": "code",
   "execution_count": 13,
   "id": "526a7f3e",
   "metadata": {},
   "outputs": [],
   "source": [
    "df['days_left']=df['departure_date']-df['date_of_Issue']\n",
    "df['days_left']=df['days_left'].apply(lambda x:str(x).split(\" \")[0])\n",
    "df['days_left']=df['days_left'].astype(\"int64\")"
   ]
  },
  {
   "cell_type": "code",
   "execution_count": 14,
   "id": "e2ff8d5f",
   "metadata": {},
   "outputs": [],
   "source": [
    "df['departure_dayname']=df['departure_date'].dt.day_name()"
   ]
  },
  {
   "cell_type": "code",
   "execution_count": 15,
   "id": "8684c9c9",
   "metadata": {},
   "outputs": [],
   "source": [
    "df.drop(['date_of_Issue','departure_date'], axis=1, inplace=True)"
   ]
  },
  {
   "cell_type": "code",
   "execution_count": 16,
   "id": "7e3d35b9",
   "metadata": {},
   "outputs": [],
   "source": [
    "df=df[df['airline'].isin(['Rwandair','Kenya Airways','Qatar Airways','Hahn Air','Brussels Airlines','Emirates'])]"
   ]
  },
  {
   "cell_type": "code",
   "execution_count": 17,
   "id": "668a9687",
   "metadata": {},
   "outputs": [],
   "source": [
    "df=df.query('`number_of_stops`<=4')\n",
    "df=df.query('`price`>=50')"
   ]
  },
  {
   "cell_type": "code",
   "execution_count": 18,
   "id": "f2a9a545",
   "metadata": {},
   "outputs": [],
   "source": [
    "def string_col_replace(df,str1,str2,col='class'):\n",
    "    df.loc[df[col]==str1,str(col)]= str2\n",
    "    print(\"You replaced \",str1, \"with\", str2)\n",
    "    return df"
   ]
  },
  {
   "cell_type": "code",
   "execution_count": 19,
   "id": "41f784ec",
   "metadata": {},
   "outputs": [
    {
     "name": "stdout",
     "output_type": "stream",
     "text": [
      "You replaced  First Class Discounted with Business Class Discounted\n",
      "You replaced  First Class with Business Class\n",
      "You replaced  Economy Discounted Award with Economy Discounted\n"
     ]
    }
   ],
   "source": [
    "df=string_col_replace(df,\"First Class Discounted\",'Business Class Discounted')\n",
    "df=string_col_replace(df,\"First Class\",'Business Class')\n",
    "df=string_col_replace(df,\"Economy Discounted Award\",'Economy Discounted')\n",
    "# df=string_col_replace(df,\"Economy Discounted\",'Economy')"
   ]
  },
  {
   "cell_type": "code",
   "execution_count": 20,
   "id": "d5db5fdc",
   "metadata": {
    "scrolled": true
   },
   "outputs": [],
   "source": [
    "df.reset_index(drop=True,inplace=True)"
   ]
  },
  {
   "cell_type": "markdown",
   "id": "6515304b",
   "metadata": {},
   "source": [
    "### Check For Outliers"
   ]
  },
  {
   "cell_type": "code",
   "execution_count": 21,
   "id": "1f3c45fa",
   "metadata": {},
   "outputs": [],
   "source": [
    "def plot(data,col):\n",
    "    fig,(ax1,ax2)=plt.subplots(2,1)\n",
    "    sns.distplot(data[col],ax=ax1)\n",
    "    sns.boxplot(data[col],ax=ax2) "
   ]
  },
  {
   "cell_type": "code",
   "execution_count": 22,
   "id": "104f53b8",
   "metadata": {},
   "outputs": [
    {
     "data": {
      "image/png": "[encoded data removed]",
      "text/plain": [
       "<Figure size 432x288 with 2 Axes>"
      ]
     },
     "metadata": {
      "needs_background": "light"
     },
     "output_type": "display_data"
    }
   ],
   "source": [
    "plot(df,'price')"
   ]
  },
  {
   "cell_type": "markdown",
   "id": "65e77bac",
   "metadata": {},
   "source": [
    "### Handling outliers:\n",
    "    \n",
    "    \n",
    "As there is some outliers in price feature,so we replace it with median."
   ]
  },
  {
   "cell_type": "code",
   "execution_count": 23,
   "id": "fc677d44",
   "metadata": {},
   "outputs": [],
   "source": [
    "def remove_outlier(df,col):\n",
    "    bounds={}\n",
    "    q1=df[col].quantile(0.1)  #0.05\n",
    "    q3=df[col].quantile(0.9)   #0.95\n",
    "    lower_b=q1-(1.5*(q3-q1))\n",
    "    upper_b=q3+(1.5*(q3-q1))\n",
    "    bounds[col]=[lower_b,upper_b]\n",
    "    df[col].where((df[col]>bounds[col][0])&(df[col]<bounds[col][1]),inplace=True)\n",
    "    return df"
   ]
  },
  {
   "cell_type": "code",
   "execution_count": 24,
   "id": "8ec103c2",
   "metadata": {},
   "outputs": [],
   "source": [
    "df=remove_outlier(df,'price')\n",
    "df.dropna(inplace=True)"
   ]
  },
  {
   "cell_type": "code",
   "execution_count": 25,
   "id": "555b616d",
   "metadata": {},
   "outputs": [
    {
     "data": {
      "image/png": "[encoded data removed]",
      "text/plain": [
       "<Figure size 432x288 with 2 Axes>"
      ]
     },
     "metadata": {
      "needs_background": "light"
     },
     "output_type": "display_data"
    }
   ],
   "source": [
    "plot(df,'price')"
   ]
  },
  {
   "cell_type": "code",
   "execution_count": 26,
   "id": "3cd5b27b",
   "metadata": {},
   "outputs": [],
   "source": [
    "df.rename(columns={'number_of_stops': 'estimated_stops',\n",
    "                   'true_Origin': 'actual_source',\n",
    "                   'true_POT': 'actual_destination'},inplace=True)"
   ]
  },
  {
   "cell_type": "code",
   "execution_count": 27,
   "id": "23e5c054",
   "metadata": {},
   "outputs": [],
   "source": [
    "#Finding the categorical value\n",
    "column=[column for column in df.columns if df[column].dtype=='object']"
   ]
  },
  {
   "cell_type": "code",
   "execution_count": 28,
   "id": "89fe2b0e",
   "metadata": {},
   "outputs": [],
   "source": [
    "cat_cols=['airline','actual_source','departure_dayname','actual_destination','ticket_type','class']"
   ]
  },
  {
   "cell_type": "code",
   "execution_count": 29,
   "id": "090345ff",
   "metadata": {},
   "outputs": [],
   "source": [
    "#Finding the continuous value\n",
    "\n",
    "continuous_col =[column for column in df.columns if df[column].dtype!='object']"
   ]
  },
  {
   "cell_type": "markdown",
   "id": "f894f9a1",
   "metadata": {},
   "source": [
    "### Drop destinations or sources with occurences below 30 "
   ]
  },
  {
   "cell_type": "code",
   "execution_count": 30,
   "id": "3adfafd1",
   "metadata": {},
   "outputs": [],
   "source": [
    "source_dict=df['actual_source'].value_counts().to_dict()"
   ]
  },
  {
   "cell_type": "code",
   "execution_count": 31,
   "id": "56a07430",
   "metadata": {},
   "outputs": [],
   "source": [
    "source_drop=[]\n",
    "for key,val in source_dict.items():\n",
    "    if val<30:\n",
    "        source_drop.append(key) "
   ]
  },
  {
   "cell_type": "code",
   "execution_count": 32,
   "id": "0159224e",
   "metadata": {},
   "outputs": [],
   "source": [
    "df=df[~df['actual_source'].isin(source_drop)]"
   ]
  },
  {
   "cell_type": "code",
   "execution_count": 33,
   "id": "d8fb26cc",
   "metadata": {},
   "outputs": [],
   "source": [
    "dest_dict=df['actual_destination'].value_counts().to_dict()"
   ]
  },
  {
   "cell_type": "code",
   "execution_count": 34,
   "id": "e407954c",
   "metadata": {},
   "outputs": [],
   "source": [
    "dest_drop=[]\n",
    "for key,val in dest_dict.items():\n",
    "    if val<30:\n",
    "        dest_drop.append(key) "
   ]
  },
  {
   "cell_type": "code",
   "execution_count": 35,
   "id": "fb8a0574",
   "metadata": {},
   "outputs": [],
   "source": [
    "df=df[~df['actual_destination'].isin(dest_drop)]"
   ]
  },
  {
   "cell_type": "code",
   "execution_count": 36,
   "id": "f57a3a4d",
   "metadata": {},
   "outputs": [
    {
     "data": {
      "text/plain": [
       "(16278, 23)"
      ]
     },
     "execution_count": 36,
     "metadata": {},
     "output_type": "execute_result"
    }
   ],
   "source": [
    "df.shape"
   ]
  },
  {
   "cell_type": "markdown",
   "id": "18889cb0",
   "metadata": {},
   "source": [
    "#### Handling categorical data\n",
    "\n",
    "We are using two main Encoding Techniques to covert Categorical data into some numerical format\\\n",
    "Nominal data -- Data that are not in any order -->one hot encoding\\\n",
    "ordinal data -- Data are in order --> labelEncoder"
   ]
  },
  {
   "cell_type": "code",
   "execution_count": 37,
   "id": "4a91db36",
   "metadata": {},
   "outputs": [],
   "source": [
    "categorical = df[cat_cols]"
   ]
  },
  {
   "cell_type": "code",
   "execution_count": 38,
   "id": "85b0d797",
   "metadata": {},
   "outputs": [
    {
     "data": {
      "text/html": [
       "<div>\n",
       "<style scoped>\n",
       "    .dataframe tbody tr th:only-of-type {\n",
       "        vertical-align: middle;\n",
       "    }\n",
       "\n",
       "    .dataframe tbody tr th {\n",
       "        vertical-align: top;\n",
       "    }\n",
       "\n",
       "    .dataframe thead th {\n",
       "        text-align: right;\n",
       "    }\n",
       "</style>\n",
       "<table border=\"1\" class=\"dataframe\">\n",
       "  <thead>\n",
       "    <tr style=\"text-align: right;\">\n",
       "      <th></th>\n",
       "      <th>airline</th>\n",
       "      <th>actual_source</th>\n",
       "      <th>departure_dayname</th>\n",
       "      <th>actual_destination</th>\n",
       "      <th>ticket_type</th>\n",
       "      <th>class</th>\n",
       "    </tr>\n",
       "  </thead>\n",
       "  <tbody>\n",
       "    <tr>\n",
       "      <th>3</th>\n",
       "      <td>Brussels Airlines</td>\n",
       "      <td>BRU</td>\n",
       "      <td>Thursday</td>\n",
       "      <td>EBB</td>\n",
       "      <td>Return ticket</td>\n",
       "      <td>Economy Discounted</td>\n",
       "    </tr>\n",
       "    <tr>\n",
       "      <th>9</th>\n",
       "      <td>Brussels Airlines</td>\n",
       "      <td>KGL</td>\n",
       "      <td>Tuesday</td>\n",
       "      <td>BRU</td>\n",
       "      <td>One-way</td>\n",
       "      <td>Economy</td>\n",
       "    </tr>\n",
       "    <tr>\n",
       "      <th>12</th>\n",
       "      <td>Brussels Airlines</td>\n",
       "      <td>BRU</td>\n",
       "      <td>Tuesday</td>\n",
       "      <td>KGL</td>\n",
       "      <td>One-way</td>\n",
       "      <td>Economy Discounted</td>\n",
       "    </tr>\n",
       "    <tr>\n",
       "      <th>16</th>\n",
       "      <td>Brussels Airlines</td>\n",
       "      <td>BRU</td>\n",
       "      <td>Tuesday</td>\n",
       "      <td>KME</td>\n",
       "      <td>Return ticket</td>\n",
       "      <td>Economy Discounted</td>\n",
       "    </tr>\n",
       "    <tr>\n",
       "      <th>20</th>\n",
       "      <td>Brussels Airlines</td>\n",
       "      <td>BJM</td>\n",
       "      <td>Monday</td>\n",
       "      <td>YUL</td>\n",
       "      <td>Return ticket</td>\n",
       "      <td>Economy Discounted</td>\n",
       "    </tr>\n",
       "  </tbody>\n",
       "</table>\n",
       "</div>"
      ],
      "text/plain": [
       "              airline actual_source departure_dayname actual_destination  \\\n",
       "3   Brussels Airlines           BRU          Thursday                EBB   \n",
       "9   Brussels Airlines           KGL           Tuesday                BRU   \n",
       "12  Brussels Airlines           BRU           Tuesday                KGL   \n",
       "16  Brussels Airlines           BRU           Tuesday                KME   \n",
       "20  Brussels Airlines           BJM            Monday                YUL   \n",
       "\n",
       "      ticket_type               class  \n",
       "3   Return ticket  Economy Discounted  \n",
       "9         One-way             Economy  \n",
       "12        One-way  Economy Discounted  \n",
       "16  Return ticket  Economy Discounted  \n",
       "20  Return ticket  Economy Discounted  "
      ]
     },
     "execution_count": 38,
     "metadata": {},
     "output_type": "execute_result"
    }
   ],
   "source": [
    "#dataset that contains categorical data\n",
    "\n",
    "categorical.head()"
   ]
  },
  {
   "cell_type": "markdown",
   "id": "a381bb65",
   "metadata": {},
   "source": [
    "### categorical columns vs Price Analysis"
   ]
  },
  {
   "cell_type": "markdown",
   "id": "6718ea1f",
   "metadata": {},
   "source": [
    "#### Airline vs Price Analysis"
   ]
  },
  {
   "cell_type": "code",
   "execution_count": 39,
   "id": "fdbbe2ce",
   "metadata": {},
   "outputs": [
    {
     "data": {
      "text/plain": [
       "<AxesSubplot:xlabel='airline', ylabel='price'>"
      ]
     },
     "execution_count": 39,
     "metadata": {},
     "output_type": "execute_result"
    },
    {
     "data": {
      "image/png": "[encoded data removed]",
      "text/plain": [
       "<Figure size 576x360 with 1 Axes>"
      ]
     },
     "metadata": {
      "needs_background": "light"
     },
     "output_type": "display_data"
    }
   ],
   "source": [
    "plt.figure(figsize=(8,5))\n",
    "sns.boxplot(x='airline',y='price',data=df.sort_values('price',ascending=False))"
   ]
  },
  {
   "cell_type": "markdown",
   "id": "afcf9819",
   "metadata": {},
   "source": [
    "#### Perform Total_Stops vs Price Analysis"
   ]
  },
  {
   "cell_type": "code",
   "execution_count": 40,
   "id": "f3e14f39",
   "metadata": {},
   "outputs": [
    {
     "data": {
      "text/plain": [
       "<AxesSubplot:xlabel='estimated_stops', ylabel='price'>"
      ]
     },
     "execution_count": 40,
     "metadata": {},
     "output_type": "execute_result"
    },
    {
     "data": {
      "image/png": "[encoded data removed]",
      "text/plain": [
       "<Figure size 576x360 with 1 Axes>"
      ]
     },
     "metadata": {
      "needs_background": "light"
     },
     "output_type": "display_data"
    }
   ],
   "source": [
    "plt.figure(figsize=(8,5))\n",
    "sns.boxplot(x='estimated_stops',y='price',data=df.sort_values('price',ascending=False))"
   ]
  },
  {
   "cell_type": "code",
   "execution_count": 41,
   "id": "1311bcc0",
   "metadata": {},
   "outputs": [
    {
     "data": {
      "text/plain": [
       "<AxesSubplot:xlabel='ticket_type', ylabel='price'>"
      ]
     },
     "execution_count": 41,
     "metadata": {},
     "output_type": "execute_result"
    },
    {
     "data": {
      "image/png": "[encoded data removed]",
      "text/plain": [
       "<Figure size 432x288 with 1 Axes>"
      ]
     },
     "metadata": {
      "needs_background": "light"
     },
     "output_type": "display_data"
    }
   ],
   "source": [
    "sns.boxplot(x='ticket_type',y='price',data=df.sort_values\n",
    "            ('price',ascending=False))"
   ]
  },
  {
   "cell_type": "code",
   "execution_count": 42,
   "id": "9c942c1c",
   "metadata": {},
   "outputs": [
    {
     "data": {
      "text/plain": [
       "<AxesSubplot:xlabel='class', ylabel='price'>"
      ]
     },
     "execution_count": 42,
     "metadata": {},
     "output_type": "execute_result"
    },
    {
     "data": {
      "image/png": "[encoded data removed]",
      "text/plain": [
       "<Figure size 720x360 with 1 Axes>"
      ]
     },
     "metadata": {
      "needs_background": "light"
     },
     "output_type": "display_data"
    }
   ],
   "source": [
    "plt.figure(figsize=(10,5))\n",
    "plt.xticks(rotation=10)\n",
    "sns.boxplot(x='class',y='price',data=df.sort_values\n",
    "            ('price',ascending=False))"
   ]
  },
  {
   "cell_type": "code",
   "execution_count": 43,
   "id": "98084537",
   "metadata": {},
   "outputs": [],
   "source": [
    "df=df[['airline', 'ticket_type', 'class', 'actual_source', 'actual_destination',\n",
    "       'estimated_stops', 'price', 'booking_day', 'booking_month',\n",
    "       'departure_day','departure_dayname', 'departure_month', 'days_left']]"
   ]
  },
  {
   "cell_type": "code",
   "execution_count": 44,
   "id": "d95dce6d",
   "metadata": {},
   "outputs": [],
   "source": [
    "#df.to_csv('data_case2/final_unlabelled.csv',index=False)"
   ]
  },
  {
   "cell_type": "code",
   "execution_count": 45,
   "id": "726c84d9",
   "metadata": {},
   "outputs": [
    {
     "data": {
      "image/png": "[encoded data removed]",
      "text/plain": [
       "<Figure size 720x360 with 1 Axes>"
      ]
     },
     "metadata": {
      "needs_background": "light"
     },
     "output_type": "display_data"
    }
   ],
   "source": [
    "plt.figure(figsize = (10, 5))\n",
    "plt.title('Count of flights month wise')\n",
    "ax=sns.countplot(x = 'booking_month', data = df)\n",
    "plt.xlabel('Month')\n",
    "plt.ylabel('Count of flights')\n",
    "for p in ax.patches:\n",
    "    ax.annotate(int(p.get_height()), \n",
    "                (p.get_x()+0.25, p.get_height()+1), va='bottom', \n",
    "                color= 'black')"
   ]
  },
  {
   "cell_type": "code",
   "execution_count": 46,
   "id": "d0540d90",
   "metadata": {},
   "outputs": [
    {
     "data": {
      "image/png": "[encoded data removed]",
      "text/plain": [
       "<Figure size 720x360 with 1 Axes>"
      ]
     },
     "metadata": {
      "needs_background": "light"
     },
     "output_type": "display_data"
    }
   ],
   "source": [
    "plt.figure(figsize = (10,5))\n",
    "plt.title('Count of flights with different Airlines')\n",
    "ax=sns.countplot(x = 'airline', data =df)\n",
    "plt.xlabel('Airline')\n",
    "plt.ylabel('Count of flights')\n",
    "plt.xticks(rotation = 45)\n",
    "for p in ax.patches:\n",
    "    ax.annotate(int(p.get_height()), (p.get_x()+0.25, \n",
    "                                      p.get_height()+1), \n",
    "                va='bottom', color= 'black')"
   ]
  },
  {
   "cell_type": "code",
   "execution_count": 71,
   "id": "27af831d",
   "metadata": {},
   "outputs": [
    {
     "data": {
      "text/plain": [
       "Text(0, 0.5, 'Ticket Price')"
      ]
     },
     "execution_count": 71,
     "metadata": {},
     "output_type": "execute_result"
    },
    {
     "data": {
      "image/png": "[encoded data removed]",
      "text/plain": [
       "<Figure size 1080x288 with 1 Axes>"
      ]
     },
     "metadata": {
      "needs_background": "light"
     },
     "output_type": "display_data"
    }
   ],
   "source": [
    "plt.figure(figsize=(15, 4))\n",
    "plt.title(\"Price vs Airlines\")\n",
    "plt.scatter(df[\"airline\"], df[\"price\"])\n",
    "plt.xticks(rotation=90)\n",
    "plt.xlabel(\"Airline\")\n",
    "plt.ylabel(\"Ticket Price\")\n"
   ]
  },
  {
   "cell_type": "code",
   "execution_count": null,
   "id": "bab597fe",
   "metadata": {},
   "outputs": [],
   "source": []
  },
  {
   "cell_type": "code",
   "execution_count": 49,
   "id": "bd2096f1",
   "metadata": {},
   "outputs": [],
   "source": [
    "# Applying label encoder\n",
    "from sklearn.preprocessing import LabelEncoder\n",
    "encoder = LabelEncoder()"
   ]
  },
  {
   "cell_type": "code",
   "execution_count": 50,
   "id": "24807c60",
   "metadata": {
    "scrolled": true
   },
   "outputs": [
    {
     "data": {
      "text/html": [
       "<div>\n",
       "<style scoped>\n",
       "    .dataframe tbody tr th:only-of-type {\n",
       "        vertical-align: middle;\n",
       "    }\n",
       "\n",
       "    .dataframe tbody tr th {\n",
       "        vertical-align: top;\n",
       "    }\n",
       "\n",
       "    .dataframe thead th {\n",
       "        text-align: right;\n",
       "    }\n",
       "</style>\n",
       "<table border=\"1\" class=\"dataframe\">\n",
       "  <thead>\n",
       "    <tr style=\"text-align: right;\">\n",
       "      <th></th>\n",
       "      <th>airline</th>\n",
       "      <th>actual_source</th>\n",
       "      <th>departure_dayname</th>\n",
       "      <th>actual_destination</th>\n",
       "      <th>ticket_type</th>\n",
       "      <th>class</th>\n",
       "    </tr>\n",
       "  </thead>\n",
       "  <tbody>\n",
       "    <tr>\n",
       "      <th>3</th>\n",
       "      <td>0</td>\n",
       "      <td>5</td>\n",
       "      <td>4</td>\n",
       "      <td>13</td>\n",
       "      <td>1</td>\n",
       "      <td>4</td>\n",
       "    </tr>\n",
       "    <tr>\n",
       "      <th>9</th>\n",
       "      <td>0</td>\n",
       "      <td>17</td>\n",
       "      <td>5</td>\n",
       "      <td>5</td>\n",
       "      <td>0</td>\n",
       "      <td>3</td>\n",
       "    </tr>\n",
       "    <tr>\n",
       "      <th>12</th>\n",
       "      <td>0</td>\n",
       "      <td>5</td>\n",
       "      <td>5</td>\n",
       "      <td>17</td>\n",
       "      <td>0</td>\n",
       "      <td>4</td>\n",
       "    </tr>\n",
       "    <tr>\n",
       "      <th>16</th>\n",
       "      <td>0</td>\n",
       "      <td>5</td>\n",
       "      <td>5</td>\n",
       "      <td>18</td>\n",
       "      <td>1</td>\n",
       "      <td>4</td>\n",
       "    </tr>\n",
       "    <tr>\n",
       "      <th>20</th>\n",
       "      <td>0</td>\n",
       "      <td>3</td>\n",
       "      <td>1</td>\n",
       "      <td>24</td>\n",
       "      <td>1</td>\n",
       "      <td>4</td>\n",
       "    </tr>\n",
       "  </tbody>\n",
       "</table>\n",
       "</div>"
      ],
      "text/plain": [
       "    airline  actual_source  departure_dayname  actual_destination  \\\n",
       "3         0              5                  4                  13   \n",
       "9         0             17                  5                   5   \n",
       "12        0              5                  5                  17   \n",
       "16        0              5                  5                  18   \n",
       "20        0              3                  1                  24   \n",
       "\n",
       "    ticket_type  class  \n",
       "3             1      4  \n",
       "9             0      3  \n",
       "12            0      4  \n",
       "16            1      4  \n",
       "20            1      4  "
      ]
     },
     "execution_count": 50,
     "metadata": {},
     "output_type": "execute_result"
    }
   ],
   "source": [
    "categorical['airline'] = encoder.fit_transform(categorical['airline'])\n",
    "categorical['actual_source'] = encoder.fit_transform(categorical['actual_source'])\n",
    "categorical['actual_destination'] = encoder.fit_transform(categorical['actual_destination'])\n",
    "categorical['class'] = encoder.fit_transform(categorical['class'])\n",
    "categorical['departure_dayname'] = encoder.fit_transform(categorical['departure_dayname'])\n",
    "categorical['ticket_type'] = encoder.fit_transform(categorical['ticket_type'])\n",
    "\n",
    "categorical.head()"
   ]
  },
  {
   "cell_type": "code",
   "execution_count": 51,
   "id": "f99cc1d7",
   "metadata": {},
   "outputs": [],
   "source": [
    "continuous_col.remove('documentNumber')"
   ]
  },
  {
   "cell_type": "code",
   "execution_count": 52,
   "id": "d2f802b7",
   "metadata": {},
   "outputs": [],
   "source": [
    "final_df=pd.concat([categorical,df[continuous_col]],axis=1)"
   ]
  },
  {
   "cell_type": "code",
   "execution_count": 53,
   "id": "c30c7a52",
   "metadata": {},
   "outputs": [
    {
     "data": {
      "text/html": [
       "<div>\n",
       "<style scoped>\n",
       "    .dataframe tbody tr th:only-of-type {\n",
       "        vertical-align: middle;\n",
       "    }\n",
       "\n",
       "    .dataframe tbody tr th {\n",
       "        vertical-align: top;\n",
       "    }\n",
       "\n",
       "    .dataframe thead th {\n",
       "        text-align: right;\n",
       "    }\n",
       "</style>\n",
       "<table border=\"1\" class=\"dataframe\">\n",
       "  <thead>\n",
       "    <tr style=\"text-align: right;\">\n",
       "      <th></th>\n",
       "      <th>airline</th>\n",
       "      <th>actual_source</th>\n",
       "      <th>departure_dayname</th>\n",
       "      <th>actual_destination</th>\n",
       "      <th>ticket_type</th>\n",
       "      <th>class</th>\n",
       "      <th>estimated_stops</th>\n",
       "      <th>price</th>\n",
       "      <th>booking_day</th>\n",
       "      <th>booking_month</th>\n",
       "      <th>departure_day</th>\n",
       "      <th>departure_month</th>\n",
       "      <th>days_left</th>\n",
       "    </tr>\n",
       "  </thead>\n",
       "  <tbody>\n",
       "    <tr>\n",
       "      <th>3</th>\n",
       "      <td>0</td>\n",
       "      <td>5</td>\n",
       "      <td>4</td>\n",
       "      <td>13</td>\n",
       "      <td>1</td>\n",
       "      <td>4</td>\n",
       "      <td>1</td>\n",
       "      <td>131.250</td>\n",
       "      <td>21</td>\n",
       "      <td>10</td>\n",
       "      <td>24</td>\n",
       "      <td>11</td>\n",
       "      <td>34</td>\n",
       "    </tr>\n",
       "    <tr>\n",
       "      <th>9</th>\n",
       "      <td>0</td>\n",
       "      <td>17</td>\n",
       "      <td>5</td>\n",
       "      <td>5</td>\n",
       "      <td>0</td>\n",
       "      <td>3</td>\n",
       "      <td>1</td>\n",
       "      <td>856.120</td>\n",
       "      <td>29</td>\n",
       "      <td>11</td>\n",
       "      <td>29</td>\n",
       "      <td>11</td>\n",
       "      <td>0</td>\n",
       "    </tr>\n",
       "    <tr>\n",
       "      <th>12</th>\n",
       "      <td>0</td>\n",
       "      <td>5</td>\n",
       "      <td>5</td>\n",
       "      <td>17</td>\n",
       "      <td>0</td>\n",
       "      <td>4</td>\n",
       "      <td>0</td>\n",
       "      <td>598.156</td>\n",
       "      <td>28</td>\n",
       "      <td>11</td>\n",
       "      <td>29</td>\n",
       "      <td>11</td>\n",
       "      <td>1</td>\n",
       "    </tr>\n",
       "    <tr>\n",
       "      <th>16</th>\n",
       "      <td>0</td>\n",
       "      <td>5</td>\n",
       "      <td>5</td>\n",
       "      <td>18</td>\n",
       "      <td>1</td>\n",
       "      <td>4</td>\n",
       "      <td>1</td>\n",
       "      <td>105.000</td>\n",
       "      <td>15</td>\n",
       "      <td>10</td>\n",
       "      <td>1</td>\n",
       "      <td>11</td>\n",
       "      <td>17</td>\n",
       "    </tr>\n",
       "    <tr>\n",
       "      <th>20</th>\n",
       "      <td>0</td>\n",
       "      <td>3</td>\n",
       "      <td>1</td>\n",
       "      <td>24</td>\n",
       "      <td>1</td>\n",
       "      <td>4</td>\n",
       "      <td>2</td>\n",
       "      <td>68.600</td>\n",
       "      <td>24</td>\n",
       "      <td>11</td>\n",
       "      <td>28</td>\n",
       "      <td>11</td>\n",
       "      <td>4</td>\n",
       "    </tr>\n",
       "  </tbody>\n",
       "</table>\n",
       "</div>"
      ],
      "text/plain": [
       "    airline  actual_source  departure_dayname  actual_destination  \\\n",
       "3         0              5                  4                  13   \n",
       "9         0             17                  5                   5   \n",
       "12        0              5                  5                  17   \n",
       "16        0              5                  5                  18   \n",
       "20        0              3                  1                  24   \n",
       "\n",
       "    ticket_type  class  estimated_stops    price  booking_day  booking_month  \\\n",
       "3             1      4                1  131.250           21             10   \n",
       "9             0      3                1  856.120           29             11   \n",
       "12            0      4                0  598.156           28             11   \n",
       "16            1      4                1  105.000           15             10   \n",
       "20            1      4                2   68.600           24             11   \n",
       "\n",
       "    departure_day  departure_month  days_left  \n",
       "3              24               11         34  \n",
       "9              29               11          0  \n",
       "12             29               11          1  \n",
       "16              1               11         17  \n",
       "20             28               11          4  "
      ]
     },
     "execution_count": 53,
     "metadata": {},
     "output_type": "execute_result"
    }
   ],
   "source": [
    "final_df.head()"
   ]
  },
  {
   "cell_type": "code",
   "execution_count": 54,
   "id": "c2b16e67",
   "metadata": {},
   "outputs": [],
   "source": [
    "# saving the final dataset\n",
    "final_df.to_csv('data_case2/final_labelled.csv',index=False)"
   ]
  },
  {
   "cell_type": "markdown",
   "id": "ac97abcf",
   "metadata": {},
   "source": [
    "**separate the dataset in x and y**"
   ]
  },
  {
   "cell_type": "code",
   "execution_count": 55,
   "id": "8997e3e7",
   "metadata": {},
   "outputs": [],
   "source": [
    "X=final_df.drop(['price','booking_day','departure_day','estimated_stops','booking_month','departure_month'],axis=1)\n",
    "y=final_df['price']"
   ]
  },
  {
   "cell_type": "code",
   "execution_count": 56,
   "id": "a2e32a6f",
   "metadata": {
    "scrolled": true
   },
   "outputs": [
    {
     "name": "stdout",
     "output_type": "stream",
     "text": [
      "(16278, 7)\n"
     ]
    },
    {
     "data": {
      "text/html": [
       "<div>\n",
       "<style scoped>\n",
       "    .dataframe tbody tr th:only-of-type {\n",
       "        vertical-align: middle;\n",
       "    }\n",
       "\n",
       "    .dataframe tbody tr th {\n",
       "        vertical-align: top;\n",
       "    }\n",
       "\n",
       "    .dataframe thead th {\n",
       "        text-align: right;\n",
       "    }\n",
       "</style>\n",
       "<table border=\"1\" class=\"dataframe\">\n",
       "  <thead>\n",
       "    <tr style=\"text-align: right;\">\n",
       "      <th></th>\n",
       "      <th>airline</th>\n",
       "      <th>actual_source</th>\n",
       "      <th>departure_dayname</th>\n",
       "      <th>actual_destination</th>\n",
       "      <th>ticket_type</th>\n",
       "      <th>class</th>\n",
       "      <th>days_left</th>\n",
       "    </tr>\n",
       "  </thead>\n",
       "  <tbody>\n",
       "    <tr>\n",
       "      <th>3</th>\n",
       "      <td>0</td>\n",
       "      <td>5</td>\n",
       "      <td>4</td>\n",
       "      <td>13</td>\n",
       "      <td>1</td>\n",
       "      <td>4</td>\n",
       "      <td>34</td>\n",
       "    </tr>\n",
       "    <tr>\n",
       "      <th>9</th>\n",
       "      <td>0</td>\n",
       "      <td>17</td>\n",
       "      <td>5</td>\n",
       "      <td>5</td>\n",
       "      <td>0</td>\n",
       "      <td>3</td>\n",
       "      <td>0</td>\n",
       "    </tr>\n",
       "    <tr>\n",
       "      <th>12</th>\n",
       "      <td>0</td>\n",
       "      <td>5</td>\n",
       "      <td>5</td>\n",
       "      <td>17</td>\n",
       "      <td>0</td>\n",
       "      <td>4</td>\n",
       "      <td>1</td>\n",
       "    </tr>\n",
       "    <tr>\n",
       "      <th>16</th>\n",
       "      <td>0</td>\n",
       "      <td>5</td>\n",
       "      <td>5</td>\n",
       "      <td>18</td>\n",
       "      <td>1</td>\n",
       "      <td>4</td>\n",
       "      <td>17</td>\n",
       "    </tr>\n",
       "    <tr>\n",
       "      <th>20</th>\n",
       "      <td>0</td>\n",
       "      <td>3</td>\n",
       "      <td>1</td>\n",
       "      <td>24</td>\n",
       "      <td>1</td>\n",
       "      <td>4</td>\n",
       "      <td>4</td>\n",
       "    </tr>\n",
       "  </tbody>\n",
       "</table>\n",
       "</div>"
      ],
      "text/plain": [
       "    airline  actual_source  departure_dayname  actual_destination  \\\n",
       "3         0              5                  4                  13   \n",
       "9         0             17                  5                   5   \n",
       "12        0              5                  5                  17   \n",
       "16        0              5                  5                  18   \n",
       "20        0              3                  1                  24   \n",
       "\n",
       "    ticket_type  class  days_left  \n",
       "3             1      4         34  \n",
       "9             0      3          0  \n",
       "12            0      4          1  \n",
       "16            1      4         17  \n",
       "20            1      4          4  "
      ]
     },
     "execution_count": 56,
     "metadata": {},
     "output_type": "execute_result"
    }
   ],
   "source": [
    "print(X.shape)\n",
    "X.head()"
   ]
  },
  {
   "cell_type": "markdown",
   "id": "cd840f03",
   "metadata": {},
   "source": [
    "## Modelling"
   ]
  },
  {
   "cell_type": "code",
   "execution_count": 57,
   "id": "72a33cd7",
   "metadata": {},
   "outputs": [],
   "source": [
    "# splitting into testing and training\n",
    "from sklearn.model_selection import train_test_split\n",
    "xtrain, xtest, ytrain, ytest = train_test_split(X,y,test_size=0.2,random_state=42,shuffle=True)"
   ]
  },
  {
   "cell_type": "markdown",
   "id": "a3e8dee2",
   "metadata": {},
   "source": [
    "### Random Forest"
   ]
  },
  {
   "cell_type": "code",
   "execution_count": 58,
   "id": "dfb76905",
   "metadata": {},
   "outputs": [
    {
     "name": "stdout",
     "output_type": "stream",
     "text": [
      "Model is: RandomForestRegressor(max_depth=15, n_estimators=200)\n",
      "Training score: 0.8724045591966356\n",
      "Predictions are: [408.66276259 208.29925184 366.69276611 ... 158.6641891  156.98441\n",
      " 624.18726172]\n",
      "\n",
      "\n",
      "r2 score is: 0.6483530076987327\n",
      "MSE:15338.576258057159\n"
     ]
    }
   ],
   "source": [
    "model_randomF=predict(RandomForestRegressor(n_estimators=200,max_depth=15,max_features='auto'))"
   ]
  },
  {
   "cell_type": "code",
   "execution_count": 59,
   "id": "ea171bc0",
   "metadata": {},
   "outputs": [],
   "source": [
    "feat_importance=pd.DataFrame(model_randomF.feature_importances_,index=model_randomF.feature_names_in_,columns=['feat_imp'])"
   ]
  },
  {
   "cell_type": "code",
   "execution_count": 60,
   "id": "f367c396",
   "metadata": {},
   "outputs": [
    {
     "data": {
      "image/png": "[encoded data removed]",
      "text/plain": [
       "<Figure size 432x288 with 1 Axes>"
      ]
     },
     "metadata": {
      "needs_background": "light"
     },
     "output_type": "display_data"
    }
   ],
   "source": [
    "_=feat_importance.sort_values('feat_imp').plot(kind='barh')"
   ]
  },
  {
   "cell_type": "markdown",
   "id": "8d569a7b",
   "metadata": {},
   "source": [
    "### K Neighbors Regressor"
   ]
  },
  {
   "cell_type": "code",
   "execution_count": 61,
   "id": "42c0acab",
   "metadata": {
    "scrolled": true
   },
   "outputs": [
    {
     "name": "stdout",
     "output_type": "stream",
     "text": [
      "Model is: KNeighborsRegressor()\n",
      "Training score: 0.6857578528935131\n",
      "Predictions are: [543.6872 488.9128 248.0622 ... 131.3968 144.3284 296.303 ]\n",
      "\n",
      "\n",
      "r2 score is: 0.51999322878967\n",
      "MSE:20937.5328832207\n"
     ]
    }
   ],
   "source": [
    "model_kn=predict(KNeighborsRegressor())"
   ]
  },
  {
   "cell_type": "markdown",
   "id": "8f068ec8",
   "metadata": {},
   "source": [
    "### Decision Tree Regressor"
   ]
  },
  {
   "cell_type": "code",
   "execution_count": 62,
   "id": "143b8429",
   "metadata": {},
   "outputs": [
    {
     "name": "stdout",
     "output_type": "stream",
     "text": [
      "Model is: DecisionTreeRegressor()\n",
      "Training score: 0.9354315985119497\n",
      "Predictions are: [464.8       381.068      51.281     ... 156.7666875 110.179\n",
      " 568.389    ]\n",
      "\n",
      "\n",
      "r2 score is: 0.5071594718707586\n",
      "MSE:21497.331668615807\n"
     ]
    }
   ],
   "source": [
    "model_decisionT=predict(DecisionTreeRegressor())"
   ]
  },
  {
   "cell_type": "markdown",
   "id": "6531d165",
   "metadata": {},
   "source": [
    "### Gradient Boosting"
   ]
  },
  {
   "cell_type": "code",
   "execution_count": 63,
   "id": "13ef0dd8",
   "metadata": {
    "scrolled": true
   },
   "outputs": [
    {
     "name": "stdout",
     "output_type": "stream",
     "text": [
      "Model is: GradientBoostingRegressor()\n",
      "Training score: 0.5465661619201581\n",
      "Predictions are: [420.09871401 249.90136969 319.42079824 ... 189.54656869 265.90640444\n",
      " 588.23207793]\n",
      "\n",
      "\n",
      "r2 score is: 0.525095413715197\n",
      "MSE:20714.97942968268\n"
     ]
    }
   ],
   "source": [
    "model_gradientB=predict(GradientBoostingRegressor())"
   ]
  },
  {
   "cell_type": "markdown",
   "id": "3a5bfd01",
   "metadata": {},
   "source": [
    "## Best Model and Hpyertunning"
   ]
  },
  {
   "cell_type": "markdown",
   "id": "34079fa7",
   "metadata": {},
   "source": [
    "Accroding to r2 score, the best model is radnom forest with R^2=0.6"
   ]
  },
  {
   "cell_type": "code",
   "execution_count": 64,
   "id": "458aaf18",
   "metadata": {},
   "outputs": [],
   "source": [
    "random_grid = {\n",
    "    'n_estimators' : [200,300,500],\n",
    "    'max_features':['auto'],\n",
    "    'max_depth':[5,10,15,20],\n",
    "    }"
   ]
  },
  {
   "cell_type": "code",
   "execution_count": 65,
   "id": "75fca610",
   "metadata": {},
   "outputs": [],
   "source": [
    "# rf=RandomForestRegressor()\n",
    "# rf_tuned=RandomizedSearchCV(estimator=rf,param_distributions=random_grid,cv=3,verbose=2,n_jobs=-1,)\n",
    "\n",
    "# rf_tuned.fit(xtrain,ytrain)\n",
    "\n",
    "# # best parameter\n",
    "# rf_tuned.best_params_"
   ]
  },
  {
   "cell_type": "code",
   "execution_count": 66,
   "id": "9acbe9ab",
   "metadata": {
    "scrolled": true
   },
   "outputs": [],
   "source": [
    "# ypred_tuned= rf_tuned.predict(xtest)\n",
    "# print(r2_score(ytest,ypred_tuned))"
   ]
  },
  {
   "cell_type": "code",
   "execution_count": 67,
   "id": "dbe0d7ae",
   "metadata": {},
   "outputs": [],
   "source": [
    "# saving high perfoming model in joblib form\n",
    "# import joblib\n",
    "\n",
    "# joblib.dump(model_randomF, open('models_case2/flight_ticket_price_model.sav','wb'))"
   ]
  },
  {
   "cell_type": "markdown",
   "id": "af4941a9",
   "metadata": {},
   "source": [
    "## Models Ensembling "
   ]
  },
  {
   "cell_type": "code",
   "execution_count": 69,
   "id": "11cf45b1",
   "metadata": {
    "scrolled": false
   },
   "outputs": [
    {
     "name": "stdout",
     "output_type": "stream",
     "text": [
      "Model is: BaggingRegressor(base_estimator=XGBRegressor(base_score=None, booster=None,\n",
      "                                             callbacks=None,\n",
      "                                             colsample_bylevel=None,\n",
      "                                             colsample_bynode=None,\n",
      "                                             colsample_bytree=None,\n",
      "                                             early_stopping_rounds=None,\n",
      "                                             enable_categorical=False,\n",
      "                                             eval_metric=None,\n",
      "                                             feature_types=None, gamma=None,\n",
      "                                             gpu_id=None, grow_policy=None,\n",
      "                                             importance_type=None,\n",
      "                                             interaction_constraints=None,\n",
      "                                             learning_rate=None, max_bin=None,\n",
      "                                             max_cat_threshold=None,\n",
      "                                             max_cat_to_onehot=None,\n",
      "                                             max_delta_step=None,\n",
      "                                             max_depth=None, max_leaves=None,\n",
      "                                             min_child_weight=None, missing=nan,\n",
      "                                             monotone_constraints=None,\n",
      "                                             n_estimators=100, n_jobs=None,\n",
      "                                             num_parallel_tree=None,\n",
      "                                             predictor=None, random_state=None, ...),\n",
      "                 n_estimators=200)\n",
      "Training score: 0.798841249034773\n",
      "Predictions are: [285.98813 240.8953  382.47192 ... 156.32141 182.84639 612.1245 ]\n",
      "\n",
      "\n",
      "r2 score is: 0.6662754460507991\n",
      "MSE:14556.813031264139\n"
     ]
    }
   ],
   "source": [
    "model_bagging=predict(BaggingRegressor(base_estimator=XGBRegressor(),n_estimators=200))"
   ]
  },
  {
   "cell_type": "code",
   "execution_count": null,
   "id": "5f1661ad",
   "metadata": {},
   "outputs": [],
   "source": []
  },
  {
   "cell_type": "code",
   "execution_count": null,
   "id": "860a4f6f",
   "metadata": {},
   "outputs": [],
   "source": []
  }
 ],
 "metadata": {
  "hide_input": false,
  "kernelspec": {
   "display_name": "Python 3 (ipykernel)",
   "language": "python",
   "name": "python3"
  },
  "language_info": {
   "codemirror_mode": {
    "name": "ipython",
    "version": 3
   },
   "file_extension": ".py",
   "mimetype": "text/x-python",
   "name": "python",
   "nbconvert_exporter": "python",
   "pygments_lexer": "ipython3",
   "version": "3.9.12"
  },
  "latex_envs": {
   "LaTeX_envs_menu_present": true,
   "autoclose": false,
   "autocomplete": true,
   "bibliofile": "biblio.bib",
   "cite_by": "apalike",
   "current_citInitial": 1,
   "eqLabelWithNumbers": true,
   "eqNumInitial": 1,
   "hotkeys": {
    "equation": "Ctrl-E",
    "itemize": "Ctrl-I"
   },
   "labels_anchors": false,
   "latex_user_defs": false,
   "report_style_numbering": false,
   "user_envs_cfg": false
  }
 },
 "nbformat": 4,
 "nbformat_minor": 5
}
